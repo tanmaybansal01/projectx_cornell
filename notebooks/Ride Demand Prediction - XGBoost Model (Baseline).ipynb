{
 "cells": [
  {
   "cell_type": "code",
   "execution_count": null,
   "metadata": {},
   "outputs": [],
   "source": [
    "import numpy as np \n",
    "import pandas as pd\n",
    "import matplotlib.pyplot as plt\n",
    "import xgboost as xgb\n",
    "from xgboost import plot_importance, plot_tree\n",
    "from sklearn.metrics import mean_squared_error, mean_absolute_error\n",
    "plt.style.use('fivethirtyeight')\n",
    "from datetime import datetime\n",
    "from sklearn.model_selection import train_test_split\n",
    "from pandas.tseries.holiday import USFederalHolidayCalendar\n",
    "import scipy.stats as stats\n",
    "pd.options.mode.chained_assignment = None  # default='warn'"
   ]
  },
  {
   "cell_type": "markdown",
   "metadata": {},
   "source": [
    "____"
   ]
  },
  {
   "cell_type": "code",
   "execution_count": null,
   "metadata": {},
   "outputs": [],
   "source": [
    "RANDOM_SEED = 42\n",
    "np.random.seed(RANDOM_SEED)"
   ]
  },
  {
   "cell_type": "code",
   "execution_count": null,
   "metadata": {},
   "outputs": [],
   "source": [
    "master_weather_data = pd.read_csv('../data/master_weather_data.csv')\n",
    "master_weather_data = master_weather_data.drop('Unnamed: 0', axis = 1)\n",
    "master_weather_data['weather_zip'] = master_weather_data['weather_zip'].astype(str)\n",
    "master_weather_data['date_time'] = pd.to_datetime(master_weather_data['date_time'], utc = True)"
   ]
  },
  {
   "cell_type": "code",
   "execution_count": null,
   "metadata": {},
   "outputs": [],
   "source": [
    "df = pd.read_csv('../data/with_weather.csv')\n",
    "df = df.drop_duplicates('RIDE_ID')\n",
    "df = df.drop(['Unnamed: 0', 'Unnamed: 0.1', 'Unnamed: 0.1.1'], axis = 1)"
   ]
  },
  {
   "cell_type": "code",
   "execution_count": null,
   "metadata": {},
   "outputs": [],
   "source": [
    "df['started_on'] = pd.to_datetime(df['started_on'], utc = True)\n",
    "df['started_on'] = pd.DatetimeIndex(df['started_on'])"
   ]
  },
  {
   "cell_type": "code",
   "execution_count": null,
   "metadata": {},
   "outputs": [],
   "source": [
    "df['started_on_hour'] = df['started_on'].apply(lambda x: pd.to_datetime(\n",
    "    datetime.combine(x.date(), datetime.now().replace(microsecond=0,second=0,minute=0,hour=x.hour).time()),\n",
    "    utc = True\n",
    "))"
   ]
  },
  {
   "cell_type": "code",
   "execution_count": null,
   "metadata": {},
   "outputs": [],
   "source": [
    "df['day_of_week'] = df['started_on'].apply(lambda d: d.weekday())\n",
    "df['weekend'] = df['day_of_week'].apply(lambda d: 1 if d in {5, 6} else 0)"
   ]
  },
  {
   "cell_type": "code",
   "execution_count": null,
   "metadata": {},
   "outputs": [],
   "source": [
    "federal_holidays = USFederalHolidayCalendar().holidays(\n",
    "    start = np.min(df['started_on']),\n",
    "    end = np.max(df['started_on'])\n",
    ")\n",
    "federal_holidays = set(pd.Series(federal_holidays).apply(lambda d: d.date()))\n",
    "df['federal_holiday'] = df['started_on'].apply(lambda d: 1 if d.date() in federal_holidays else 0)"
   ]
  },
  {
   "cell_type": "code",
   "execution_count": null,
   "metadata": {},
   "outputs": [],
   "source": [
    "def get_hourly_data_for_zone(df, weather_data, zone_label):\n",
    "    data = df[df['zone_label'] == zone_label]\n",
    "    \n",
    "    data = data[[\n",
    "        'started_on_hour',\n",
    "        'RIDE_ID',\n",
    "        'day_of_week',\n",
    "        'weekend',\n",
    "        'HeatIndexC',\n",
    "        'precipMM',\n",
    "        'humidity',\n",
    "        'federal_holiday',\n",
    "        'zipcode'\n",
    "        ]].set_index('started_on_hour').resample('H').agg({\n",
    "        'RIDE_ID':'count',\n",
    "        'day_of_week':'max',\n",
    "        'weekend':'max',\n",
    "        'HeatIndexC': 'mean',\n",
    "        'precipMM': 'mean',\n",
    "        'humidity': 'mean',\n",
    "        'federal_holiday': 'max'\n",
    "    }).rename(\n",
    "        columns = {\n",
    "            'RIDE_ID': 'num_rides'\n",
    "        }\n",
    "    ).reset_index('started_on_hour')\n",
    "    \n",
    "    complete_data = data[~(pd.isna(data['day_of_week']))]\n",
    "    missing_data = data[pd.isna(data['day_of_week'])]\n",
    "    \n",
    "    # For NaN values (i.e. where total hourly rides are 0)\n",
    "    missing_data['day_of_week'] = missing_data['started_on_hour'].apply(lambda d: d.weekday())\n",
    "    missing_data['weekend'] = missing_data['day_of_week'].apply(lambda d: 1 if d in {5, 6} else 0)\n",
    "    federal_holidays = USFederalHolidayCalendar().holidays(\n",
    "        start = np.min(missing_data['started_on_hour']),\n",
    "        end = np.max(missing_data['started_on_hour'])\n",
    "    )\n",
    "    federal_holidays = set(pd.Series(federal_holidays).apply(lambda d: d.date()))\n",
    "    missing_data['federal_holiday'] = missing_data['started_on_hour'].apply(lambda d: 1 if d.date() in federal_holidays else 0)\n",
    "    \n",
    "    missing_data['common_zipcode'] = str(stats.mode(df[df['zone_label'] == zone_label]['zipcode'])[0][0])[:5]\n",
    "    weather_data = weather_data[[\n",
    "        'weather_zip',\n",
    "        'date_time',\n",
    "        'HeatIndexC',\n",
    "        'precipMM',\n",
    "        'humidity'\n",
    "    ]]\n",
    "    missing_data = pd.merge(\n",
    "        missing_data.drop(\n",
    "            ['HeatIndexC', 'precipMM', 'humidity'], axis = 1\n",
    "            ), \n",
    "        weather_data,\n",
    "        how = 'left',\n",
    "        left_on = ['common_zipcode', 'started_on_hour'],\n",
    "        right_on = ['weather_zip', 'date_time']\n",
    "    ).drop(['weather_zip', 'date_time', 'common_zipcode'], axis = 1)\n",
    "    \n",
    "    zone_data = pd.concat([\n",
    "        complete_data,\n",
    "        missing_data\n",
    "    ]).sort_values('started_on_hour').reset_index(drop = True)\n",
    "    \n",
    "    return zone_data.set_index('started_on_hour')"
   ]
  },
  {
   "cell_type": "code",
   "execution_count": null,
   "metadata": {},
   "outputs": [],
   "source": [
    "hourly_count = get_hourly_data_for_zone(df, master_weather_data, 4)\n",
    "\n",
    "hourly_count = pd.concat([\n",
    "    hourly_count,\n",
    "    pd.get_dummies(hourly_count['day_of_week'], prefix='day_of_week')\n",
    "], axis = 1).drop('day_of_week', axis = 1)\n",
    "\n",
    "hourly_count = hourly_count[(hourly_count.index >= pd.to_datetime('2016-07-01', utc = True)) &\n",
    "             (hourly_count.index <= pd.to_datetime('2017-02-07', utc = True))]\n",
    "\n",
    "hourly_count['HeatIndexC'] = hourly_count['HeatIndexC'].replace(np.nan, np.mean(hourly_count['HeatIndexC']))\n",
    "hourly_count['precipMM'] = hourly_count['precipMM'].replace(np.nan, np.mean(hourly_count['precipMM']))\n",
    "hourly_count['humidity'] = hourly_count['humidity'].replace(np.nan, np.mean(hourly_count['humidity']))"
   ]
  },
  {
   "cell_type": "code",
   "execution_count": null,
   "metadata": {},
   "outputs": [],
   "source": [
    "hourly_count['hour'] = hourly_count.index.hour\n",
    "hourly_count['day_of_month'] = hourly_count.index.day"
   ]
  },
  {
   "cell_type": "markdown",
   "metadata": {},
   "source": [
    "____"
   ]
  },
  {
   "cell_type": "code",
   "execution_count": null,
   "metadata": {},
   "outputs": [],
   "source": [
    "X = hourly_count.drop('num_rides', axis = 1)\n",
    "y = hourly_count['num_rides']"
   ]
  },
  {
   "cell_type": "code",
   "execution_count": null,
   "metadata": {},
   "outputs": [],
   "source": [
    "X_train, X_test, y_train, y_test = train_test_split(X, y, test_size=0.15, random_state=RANDOM_SEED, shuffle = False)"
   ]
  },
  {
   "cell_type": "code",
   "execution_count": null,
   "metadata": {},
   "outputs": [],
   "source": [
    "reg = xgb.XGBRegressor(n_estimators=1000)\n",
    "reg.fit(X_train, y_train,\n",
    "        eval_set=[(X_train, y_train), (X_test, y_test)],\n",
    "        early_stopping_rounds=50,\n",
    "       verbose=False)"
   ]
  },
  {
   "cell_type": "code",
   "execution_count": null,
   "metadata": {},
   "outputs": [],
   "source": [
    "_ = plot_importance(reg, height=0.9)"
   ]
  },
  {
   "cell_type": "code",
   "execution_count": null,
   "metadata": {},
   "outputs": [],
   "source": [
    "y_pred = reg.predict(X_test)"
   ]
  },
  {
   "cell_type": "code",
   "execution_count": null,
   "metadata": {},
   "outputs": [],
   "source": [
    "evaluate_df = hourly_count.iloc[len(X_train) :len(hourly_count)]\n",
    "evaluate_df['predicted_demand'] = y_pred\n",
    "evaluate_df['absolute_error'] = abs(evaluate_df['num_rides'] - evaluate_df['predicted_demand'])\n",
    "evaluate_df = evaluate_df[['num_rides', 'predicted_demand', 'absolute_error']]"
   ]
  },
  {
   "cell_type": "code",
   "execution_count": null,
   "metadata": {},
   "outputs": [],
   "source": [
    "plt.figure(figsize=(18,6))\n",
    "plt.plot(np.arange(0, len(y_train)), y_train, 'g', label=\"history\")\n",
    "plt.plot(np.arange(len(y_train), len(y_train) + len(y_test)), y_test, marker='.', label=\"true\")\n",
    "plt.plot(np.arange(len(y_train), len(y_train) + len(y_test)), y_pred, 'r', label=\"prediction\")\n",
    "plt.ylabel('Value')\n",
    "plt.xlabel('Time Step')\n",
    "plt.legend()\n",
    "plt.show();"
   ]
  },
  {
   "cell_type": "markdown",
   "metadata": {},
   "source": [
    "____"
   ]
  }
 ],
 "metadata": {
  "kernelspec": {
   "display_name": "projectx_venv",
   "language": "python",
   "name": "projectx_venv"
  },
  "language_info": {
   "codemirror_mode": {
    "name": "ipython",
    "version": 3
   },
   "file_extension": ".py",
   "mimetype": "text/x-python",
   "name": "python",
   "nbconvert_exporter": "python",
   "pygments_lexer": "ipython3",
   "version": "3.7.6"
  }
 },
 "nbformat": 4,
 "nbformat_minor": 4
}
