{
 "cells": [
  {
   "cell_type": "markdown",
   "metadata": {},
   "source": [
    "# Calculate Deadheading Miles and Emissions"
   ]
  },
  {
   "cell_type": "markdown",
   "metadata": {},
   "source": [
    "___"
   ]
  },
  {
   "cell_type": "code",
   "execution_count": null,
   "metadata": {},
   "outputs": [],
   "source": [
    "import pandas as pd\n",
    "import numpy as np\n",
    "import math\n",
    "from scipy.spatial.distance import cdist, euclidean"
   ]
  },
  {
   "cell_type": "markdown",
   "metadata": {},
   "source": [
    "______"
   ]
  },
  {
   "cell_type": "code",
   "execution_count": null,
   "metadata": {},
   "outputs": [],
   "source": [
    "rides_a = pd.read_csv('../data/Rides_DataA.csv')\n",
    "rides_b = pd.read_csv('../data/Rides_DataB.csv')\n",
    "df_rides = pd.merge(rides_a, rides_b, on='RIDE_ID')\n",
    "df_rides[\"started_on\"] = pd.to_datetime(df_rides[\"started_on\"], utc=True)\n",
    "df_rides[\"started_on_date\"] = pd.to_datetime(df_rides[\"started_on\"].dt.date)\n",
    "df_rides[\"started_on_time\"] = df_rides[\"started_on\"].dt.hour * 3600 + df_rides[\n",
    "    \"started_on\"].dt.minute * 60 + df_rides[\"started_on\"].dt.second \n",
    "df_rides[\"started_on_hour\"] = df_rides[\"started_on\"].dt.hour"
   ]
  },
  {
   "cell_type": "code",
   "execution_count": null,
   "metadata": {},
   "outputs": [],
   "source": [
    "def geometric_median(X, eps=1e-5):\n",
    "    y = np.mean(X, 0)\n",
    "\n",
    "    while True:\n",
    "        D = cdist(X, [y])\n",
    "        nonzeros = (D != 0)[:, 0]\n",
    "\n",
    "        Dinv = 1 / D[nonzeros]\n",
    "        Dinvs = np.sum(Dinv)\n",
    "        W = Dinv / Dinvs\n",
    "        T = np.sum(W * X[nonzeros], 0)\n",
    "\n",
    "        num_zeros = len(X) - np.sum(nonzeros)\n",
    "        if num_zeros == 0:\n",
    "            y1 = T\n",
    "        elif num_zeros == len(X):\n",
    "            return y\n",
    "        else:\n",
    "            R = (T - y) * Dinvs\n",
    "            r = np.linalg.norm(R)\n",
    "            rinv = 0 if r == 0 else num_zeros/r\n",
    "            y1 = max(0, 1-rinv)*T + min(1, rinv)*y\n",
    "\n",
    "        if euclidean(y, y1) < eps:\n",
    "            return y1\n",
    "\n",
    "        y = y1"
   ]
  },
  {
   "cell_type": "code",
   "execution_count": null,
   "metadata": {},
   "outputs": [],
   "source": [
    "def haversine_distance(lat1, lon1, lat2, lon2, earth_radius=6371):\n",
    "    lat1, lon1, lat2, lon2 = np.radians([lat1, lon1, lat2, lon2])\n",
    "    a = np.sin((lat2-lat1)/2.0)**2 + \\\n",
    "        np.cos(lat1) * np.cos(lat2) * np.sin((lon2-lon1)/2.0)**2\n",
    "    \n",
    "    return earth_radius * 2 * np.arcsin(np.sqrt(a))"
   ]
  },
  {
   "cell_type": "code",
   "execution_count": null,
   "metadata": {},
   "outputs": [],
   "source": [
    "def deadheading_distance(arr):\n",
    "    arr[\"shifted_end_location_lat\"] = arr[\"end_location_lat\"].shift()\n",
    "    arr[\"shifted_end_location_long\"] = arr[\"end_location_long\"].shift()\n",
    "    def calculate_dh_distance(row): \n",
    "        a = haversine_distance(row[\"shifted_end_location_lat\"], row[\"shifted_end_location_long\"], \n",
    "                                      row[\"start_location_lat\"], row[\"start_location_long\"]) * 1.4\n",
    "        driving_distance_to_rider = row[\"driving_distance_to_rider\"] / 1000 * 1.4\n",
    "        if pd.isna(driving_distance_to_rider): \n",
    "            driving_distance_to_rider = a\n",
    "        distance_from_previous_ride = np.sqrt(a ** 2 + driving_distance_to_rider ** 2)\n",
    "        return driving_distance_to_rider + distance_from_previous_ride\n",
    "    def calculate_ride_distance(row): \n",
    "        return haversine_distance(row[\"start_location_lat\"], row[\"start_location_long\"], \n",
    "                                 row[\"end_location_lat\"], row[\"end_location_long\"]) * 1.4\n",
    "    return [arr.apply(calculate_dh_distance, axis=1).sum(), arr.apply(calculate_ride_distance, axis=1).sum()]"
   ]
  },
  {
   "cell_type": "code",
   "execution_count": null,
   "metadata": {},
   "outputs": [],
   "source": [
    "df_rides_dh = df_rides.groupby([\"driver_id\", \"started_on_date\"]).apply(\n",
    "    deadheading_distance).reset_index()"
   ]
  },
  {
   "cell_type": "code",
   "execution_count": null,
   "metadata": {
    "scrolled": true
   },
   "outputs": [],
   "source": [
    "ser = pd.DataFrame(df_rides_dh[0].to_list())\n",
    "ser.columns = [\"ride_deadheading\", \"ride_mileage\"]\n",
    "df_rides_dh = df_rides_dh.join(ser)\n",
    "df_rides_dh = df_rides_dh.drop(columns = 0)"
   ]
  },
  {
   "cell_type": "code",
   "execution_count": null,
   "metadata": {},
   "outputs": [],
   "source": [
    "df_rides_dh[[\"driver_id\", \"started_on_date\", \"ride_deadheading\"]].to_csv(\"actual_per_ride_deadheading.csv\", index=False)"
   ]
  },
  {
   "cell_type": "code",
   "execution_count": null,
   "metadata": {
    "scrolled": false
   },
   "outputs": [],
   "source": [
    "df_rides_grouped = df_rides.groupby([\"driver_id\", \"started_on_date\"])[\"started_on_time\"].agg([\"idxmin\", \"idxmax\"])\n",
    "starting_trips = df_rides.loc[df_rides_grouped[\"idxmin\"]][[\"driver_id\",\"started_on_date\", \"start_location_lat\", \"start_location_long\"]]\n",
    "ending_trips = df_rides.loc[df_rides_grouped[\"idxmax\"]][[\"driver_id\",\"started_on_date\", \"end_location_lat\", \"end_location_long\"]]\n",
    "df_residences = starting_trips.groupby(\"driver_id\")[[\"start_location_lat\", \"start_location_long\"]].apply(geometric_median)\n",
    "df_residences.columns = [\"residence_lat\", \"residence_long\"]"
   ]
  },
  {
   "cell_type": "code",
   "execution_count": null,
   "metadata": {},
   "outputs": [],
   "source": [
    "df_commute = pd.merge(starting_trips, ending_trips, on=[\"driver_id\", \"started_on_date\"], suffixes=[\"_start\", \"_end\"])\n",
    "df_commute = pd.merge(df_commute, df_residences, on=\"driver_id\")\n",
    "\n",
    "df_commute[\"commute_distance_start\"] = haversine_distance(df_commute[\"start_location_lat\"], \n",
    "                                                    df_commute[\"start_location_long\"],\n",
    "                                                    df_commute[\"residence_lat\"],\n",
    "                                                    df_commute[\"residence_long\"])\n",
    "df_commute[\"commute_distance_start\"] *= 1.4 # distance adjustment factor\n",
    "df_commute[\"commute_distance_end\"] = haversine_distance(df_commute[\"end_location_lat\"],\n",
    "                                                    df_commute[\"end_location_long\"],\n",
    "                                                    df_commute[\"residence_lat\"],\n",
    "                                                    df_commute[\"residence_long\"])\n",
    "df_commute[\"commute_distance_end\"] *= 1.4\n",
    "df_commute = df_commute.reset_index()"
   ]
  },
  {
   "cell_type": "code",
   "execution_count": null,
   "metadata": {},
   "outputs": [],
   "source": [
    "df_deadheading = pd.merge(df_commute, df_rides_dh, on=[\"driver_id\", \"started_on_date\"])"
   ]
  },
  {
   "cell_type": "code",
   "execution_count": null,
   "metadata": {},
   "outputs": [],
   "source": [
    "emissions_df = pd.read_csv(\"../data/epa_emissions_database.csv\")\n",
    "rides_b = pd.read_csv('../data/Rides_DataB.csv')\n",
    "rides_b[\"make\"] = rides_b[\"make\"].str.strip(\"b\\'\\\"\")\n",
    "rides_b[\"model\"] = rides_b[\"model\"].str.strip(\"b\\'\\\"\")\n",
    "rides_b[\"year\"] = rides_b[\"year\"].str.strip(\"b\\'\\\"\")\n",
    "rides_b[\"year\"] = pd.to_numeric(rides_b[\"year\"])\n",
    "emissions_df = emissions_df.rename(columns={\"Make\": \"make\", \"Model\": \"model\", \"Year\": \"year\", \n",
    "                                            \"Tailpipe CO2 in Grams/Mile (FT1)\": \"emissions\"})\n",
    "emissions_df = emissions_df.groupby([\"make\", \"model\", \"year\"])[\"emissions\"].median()\n",
    "emissions_df = pd.DataFrame(emissions_df)\n",
    "emissions_df = emissions_df[emissions_df[\"emissions\"] >= 0]\n",
    "emissions_df_merged = pd.merge(rides_b, emissions_df, on=[\"make\", \"model\", \"year\"], how = \"left\")\n",
    "emissions_df_merged = emissions_df_merged[[\"driver_id\", \"make\", \"model\", \"year\", \"emissions\"]]\n",
    "emissions_df_merged = emissions_df_merged.drop_duplicates()\n",
    "emissions_df_merged[\"emissions\"] = emissions_df_merged[\"emissions\"].fillna(emissions_df_merged[\"emissions\"].median())"
   ]
  },
  {
   "cell_type": "code",
   "execution_count": null,
   "metadata": {},
   "outputs": [],
   "source": [
    "df_dh_emissions = pd.merge(df_deadheading, emissions_df_merged, on = [\"driver_id\"])\n",
    "df_dh_emissions[\"deadheading\"] = df_dh_emissions[\"commute_distance_start\"] + df_dh_emissions[\n",
    "    \"commute_distance_end\"] + df_dh_emissions[\"ride_deadheading\"]\n",
    "df_dh_emissions[\"total_mileage\"] = df_dh_emissions[\"deadheading\"] + df_dh_emissions[\"ride_mileage\"]"
   ]
  },
  {
   "cell_type": "code",
   "execution_count": null,
   "metadata": {},
   "outputs": [],
   "source": [
    "df_dh_emissions = df_dh_emissions[df_dh_emissions[\"ride_deadheading\"].between(df_dh_emissions[\n",
    "    \"ride_deadheading\"].quantile(.027), df_dh_emissions[\"ride_deadheading\"].quantile(.973))]\n",
    "df_dh_emissions = df_dh_emissions[df_dh_emissions[\"deadheading\"].between(df_dh_emissions[\n",
    "    \"deadheading\"].quantile(.027), df_dh_emissions[\"deadheading\"].quantile(.973))]"
   ]
  },
  {
   "cell_type": "code",
   "execution_count": null,
   "metadata": {},
   "outputs": [],
   "source": [
    "deadheading_mileage = df_dh_emissions[\"deadheading\"].sum()\n",
    "ride_deadheading_mileage = df_dh_emissions[\"ride_deadheading\"].sum()\n",
    "total_mileage = df_dh_emissions[\"total_mileage\"].sum()"
   ]
  },
  {
   "cell_type": "code",
   "execution_count": null,
   "metadata": {},
   "outputs": [],
   "source": [
    "percentage_deadheading = deadheading_mileage/total_mileage"
   ]
  },
  {
   "cell_type": "code",
   "execution_count": null,
   "metadata": {},
   "outputs": [],
   "source": [
    "ride_percentage_deadheading = ride_deadheading_mileage/total_mileage"
   ]
  },
  {
   "cell_type": "code",
   "execution_count": null,
   "metadata": {},
   "outputs": [],
   "source": [
    "deadheading_emissions = (df_dh_emissions[\"deadheading\"] * df_dh_emissions[\"emissions\"] * 0.621371).sum()\n",
    "ride_deadheading_emissions = (df_dh_emissions[\"ride_deadheading\"] * df_dh_emissions[\"emissions\"] * 0.621371).sum()\n",
    "total_emissions = (df_dh_emissions[\"total_mileage\"] * df_dh_emissions[\"emissions\"] * 0.621371).sum()"
   ]
  },
  {
   "cell_type": "code",
   "execution_count": null,
   "metadata": {},
   "outputs": [],
   "source": [
    "percentage_deadheading = deadheading_emissions/total_emissions"
   ]
  },
  {
   "cell_type": "code",
   "execution_count": null,
   "metadata": {},
   "outputs": [],
   "source": [
    "ride_percentage_deadheading = ride_deadheading_emissions/total_emissions"
   ]
  },
  {
   "cell_type": "markdown",
   "metadata": {},
   "source": [
    "___"
   ]
  },
  {
   "cell_type": "markdown",
   "metadata": {},
   "source": [
    "Note: These numbers are off by 1-2% than those presented in the dataset, since there was an adjustment for outliers. However, this marginal difference does not impact the conclusions or consequent calculations in any way. "
   ]
  },
  {
   "cell_type": "markdown",
   "metadata": {},
   "source": [
    "___"
   ]
  }
 ],
 "metadata": {
  "kernelspec": {
   "display_name": "Python 3",
   "language": "python",
   "name": "python3"
  },
  "language_info": {
   "codemirror_mode": {
    "name": "ipython",
    "version": 3
   },
   "file_extension": ".py",
   "mimetype": "text/x-python",
   "name": "python",
   "nbconvert_exporter": "python",
   "pygments_lexer": "ipython3",
   "version": "3.7.6"
  }
 },
 "nbformat": 4,
 "nbformat_minor": 4
}
